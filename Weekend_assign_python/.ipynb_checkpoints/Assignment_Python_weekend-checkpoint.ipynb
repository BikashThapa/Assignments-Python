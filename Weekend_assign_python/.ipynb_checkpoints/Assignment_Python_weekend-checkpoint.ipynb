{
 "cells": [
  {
   "cell_type": "markdown",
   "metadata": {},
   "source": [
    "Question 1: General questions:\n",
    "    a. Using Map with lambda function generates a third list with a single map statement\n",
    "        that sums the integer elements of the same index of two given lists.\n",
    "        lst1=[100, 200, 300, 400, 500]\n",
    "        lst2=[1,10,100,1000,10000]\n",
    "        Should return with a single statement : [101, 210, 400, 1400, 10500]"
   ]
  },
  {
   "cell_type": "code",
   "execution_count": 1,
   "metadata": {},
   "outputs": [
    {
     "data": {
      "text/plain": [
       "[101, 210, 400, 1400, 10500]"
      ]
     },
     "execution_count": 1,
     "metadata": {},
     "output_type": "execute_result"
    }
   ],
   "source": [
    "lst1=[100, 200, 300, 400, 500]\n",
    "lst2=[1,10,100,1000,10000] \n",
    "new_result = list(map((lambda x, y: x + y), lst1, lst2))\n",
    "new_result"
   ]
  },
  {
   "cell_type": "markdown",
   "metadata": {},
   "source": [
    "b.Write a function that takes a string and returns the dictionary with each character as\n",
    "key and its count as value.\n",
    "For example:\n",
    "result = myfunc (\"aaaaabbbbcccdde\")"
   ]
  },
  {
   "cell_type": "code",
   "execution_count": 2,
   "metadata": {},
   "outputs": [
    {
     "data": {
      "text/plain": [
       "{'d': 2, 'e': 1, 'b': 4, 'a': 5, 'c': 3}"
      ]
     },
     "execution_count": 2,
     "metadata": {},
     "output_type": "execute_result"
    }
   ],
   "source": [
    "def myfunc(my_string):\n",
    "    return {i: my_string.count(i) for i in set(my_string)}\n",
    "\n",
    "result = myfunc(\"aaaaabbbbcccdde\")\n",
    "result"
   ]
  },
  {
   "cell_type": "markdown",
   "metadata": {},
   "source": [
    "c.The dictionary given below consists of vehicles and their weights in kilograms.\n",
    "Construct a list of the names of vehicles with weight below 5000 kilograms. In the\n",
    "same list comprehension makes the key names all uppercase. Use just a single\n",
    "comprehension statement to achieve it.\n",
    "dict={\n",
    "\"Sedan\": 1500, \"SUV\": 2000, \"Pickup\": 2500, \"Minivan\": 1600, \"Van\":\n",
    "2400, \"Semi\": 13600, \"Bicycle\": 7, \"Motorcycle\": 110\n",
    "}"
   ]
  },
  {
   "cell_type": "code",
   "execution_count": 3,
   "metadata": {},
   "outputs": [
    {
     "name": "stdout",
     "output_type": "stream",
     "text": [
      "['SEDAN', 'SUV', 'PICKUP', 'MINIVAN', 'VAN', 'BICYCLE', 'MOTORCYCLE']\n"
     ]
    }
   ],
   "source": [
    "dict={\"Sedan\": 1500, \"SUV\": 2000, \"Pickup\": 2500, \"Minivan\": 1600, \"Van\": 2400, \"Semi\": 13600, \"Bicycle\": 7, \"Motorcycle\": 110}\n",
    "\n",
    "new_lst = [key.upper() for key, value in dict.items() if value < 5000]\n",
    "print(new_lst)"
   ]
  },
  {
   "cell_type": "markdown",
   "metadata": {},
   "source": [
    "Question 3: A bracket is considered to be any one of the following characters:\n",
    "(, ), {, }, [, or ]."
   ]
  },
  {
   "cell_type": "code",
   "execution_count": 5,
   "metadata": {},
   "outputs": [
    {
     "name": "stdout",
     "output_type": "stream",
     "text": [
      "{[]{()}} - Yes\n",
      "[{}{})(] - No\n",
      "((() - No\n"
     ]
    }
   ],
   "source": [
    "open_bracket = [\"[\",\"{\",\"(\"]\n",
    "close_bracket = [\"]\",\"}\",\")\"]\n",
    "  \n",
    "# Function to check parentheses\n",
    "def isBalanced(myStr):\n",
    "    stack = []\n",
    "    for i in myStr:\n",
    "        if i in open_bracket:\n",
    "            stack.append(i)\n",
    "        elif i in close_bracket:\n",
    "            pos = close_bracket.index(i)\n",
    "            if ((len(stack) > 0) and\n",
    "                (open_bracket[pos] == stack[len(stack)-1])):\n",
    "                stack.pop()\n",
    "            else:\n",
    "                return \"No\"\n",
    "    if len(stack) == 0:\n",
    "        return \"Yes\"\n",
    "    else:\n",
    "        return \"No\"  \n",
    "string = \"{[]{()}}\"\n",
    "print(string,\"-\", isBalanced(string))\n",
    "  \n",
    "string = \"[{}{})(]\"\n",
    "print(string,\"-\", isBalanced(string))\n",
    "  \n",
    "string = \"((()\"\n",
    "print(string,\"-\",isBalanced(string))"
   ]
  },
  {
   "cell_type": "markdown",
   "metadata": {},
   "source": [
    "Question 4 :A left rotation operation on an integer array"
   ]
  },
  {
   "cell_type": "code",
   "execution_count": 10,
   "metadata": {},
   "outputs": [
    {
     "name": "stdout",
     "output_type": "stream",
     "text": [
      "Enter hou many numbers you want in a list5\n",
      "5\n",
      "Enter 0 number 1\n",
      "Enter 1 number 2\n",
      "Enter 2 number 3\n",
      "Enter 3 number 4\n",
      "Enter 4 number 5\n",
      "['1', '2', '3', '4', '5']\n",
      "Enter numner of rotations 3\n",
      "4 5 1 2 3 The number left rotations is 3\n"
     ]
    }
   ],
   "source": [
    "# Function to left rotate arr[] of size n by d*/\n",
    "def rotateLeft(arr, d, n):\n",
    "    for i in range(d):\n",
    "        leftRotatebyOne(arr, n)\n",
    "        \n",
    "def leftRotatebyOne(arr, n):\n",
    "    temp = arr[0]\n",
    "    for i in range(n-1):\n",
    "        arr[i] = arr[i + 1]\n",
    "    arr[n-1] = temp\n",
    "def printArray(arr, size):\n",
    "    for i in range(size):\n",
    "        print (\"% s\"% arr[i], end =\" \")\n",
    "\n",
    "num1 = int(input(\"Enter hou many numbers you want in a list\"))\n",
    "  \n",
    "new_list =[]\n",
    "print(num1)\n",
    "for i in range(num1):\n",
    "    numbers = str(input(\"Enter \"+ str(i) + \" number \"))\n",
    "    new_list.append(numbers)\n",
    "print(new_list)\n",
    "\n",
    "rotate = int(input(\"Enter numner of rotations \"))\n",
    "rotateLeft(new_list, rotate, num1)\n",
    "printArray(new_list, num1)\n",
    "print(\"The number left rotations is \"+str(rotate))\n",
    "\n"
   ]
  },
  {
   "cell_type": "markdown",
   "metadata": {},
   "source": [
    "Python Assignment Part 2"
   ]
  },
  {
   "cell_type": "markdown",
   "metadata": {},
   "source": [
    "1.Create generator with and without comprehension for getting multiples of given number upto 10.\n",
    "a. Eg. generator(5) =>> 5, 10, 15 …. 50"
   ]
  },
  {
   "cell_type": "code",
   "execution_count": 11,
   "metadata": {},
   "outputs": [
    {
     "name": "stdout",
     "output_type": "stream",
     "text": [
      "5\n",
      "10\n",
      "15\n",
      "20\n",
      "25\n",
      "30\n",
      "35\n",
      "40\n",
      "45\n",
      "50\n"
     ]
    }
   ],
   "source": [
    "# without comprehension in generator\n",
    "def generator(number):\n",
    "    for i in range(1,11):\n",
    "        yield (i*number)\n",
    "my_num = generator(5)#saves as the generator object\n",
    "\n",
    "#runs loop until finished\n",
    "for i in my_num:\n",
    "    print(i)"
   ]
  },
  {
   "cell_type": "code",
   "execution_count": 12,
   "metadata": {},
   "outputs": [
    {
     "name": "stdout",
     "output_type": "stream",
     "text": [
      "[5, 10, 15, 20, 25, 30, 35, 40, 45, 50]\n"
     ]
    }
   ],
   "source": [
    "#usig list comprehension in generator\n",
    "def generator_new(number):\n",
    "    yield [i* number for i in range(1,11)]\n",
    "new_list = generator_new(5)\n",
    "for x in new_list:\n",
    "    print(x)"
   ]
  },
  {
   "cell_type": "markdown",
   "metadata": {},
   "source": [
    "2.Create a scenario where following errors are handled:"
   ]
  },
  {
   "cell_type": "markdown",
   "metadata": {},
   "source": [
    " a.Custom Error implemented using class"
   ]
  },
  {
   "cell_type": "code",
   "execution_count": 13,
   "metadata": {},
   "outputs": [
    {
     "name": "stdout",
     "output_type": "stream",
     "text": [
      "This is exception inside Playernotfound\n",
      "Cleanup task\n"
     ]
    }
   ],
   "source": [
    "class PlayerNotFound(Exception):\n",
    "    pass\n",
    "def fun_example():\n",
    "    try:\n",
    "        raise PlayerNotFound\n",
    "    except PlayerNotFound as e:\n",
    "        print(\"This is exception inside Playernotfound\")\n",
    "    finally: \n",
    "        print(\"Cleanup task\") \n",
    "fun_example()"
   ]
  },
  {
   "cell_type": "markdown",
   "metadata": {},
   "source": [
    "b.Custom Error using Exception or BaseException class using message to handle at least\n",
    "two of the cases."
   ]
  },
  {
   "cell_type": "code",
   "execution_count": 14,
   "metadata": {},
   "outputs": [
    {
     "name": "stdout",
     "output_type": "stream",
     "text": [
      "division by zero\n",
      "Cleanup task\n"
     ]
    }
   ],
   "source": [
    "def fun_example():\n",
    "    try:\n",
    "        1/0\n",
    "        lst =[1,2,3]\n",
    "        print(lst[6])\n",
    "        raise BaseException\n",
    "    except ZeroDivisionError as err:\n",
    "        print(err)\n",
    "    except PlayerNotFound as e:\n",
    "        print(\"Hola\")\n",
    "    except:\n",
    "        print(\"I couldnt handle this\")\n",
    "    finally: \n",
    "        print(\"Cleanup task\") \n",
    "fun_example()"
   ]
  },
  {
   "cell_type": "markdown",
   "metadata": {},
   "source": [
    "c.The full-fledged case for exception handling using try, except, else, finally"
   ]
  },
  {
   "cell_type": "code",
   "execution_count": 15,
   "metadata": {},
   "outputs": [
    {
     "name": "stdout",
     "output_type": "stream",
     "text": [
      "division by zero\n",
      "Cleanup task\n"
     ]
    }
   ],
   "source": [
    "def fun_example():\n",
    "    try:\n",
    "        1/0\n",
    "        lst =[1,2,3]\n",
    "        print(lst[6])\n",
    "        raise BaseException\n",
    "    except ZeroDivisionError as err:\n",
    "        print(err)\n",
    "    except:\n",
    "        print(\"I couldnt handle this\")\n",
    "    else:\n",
    "        print(\"This is the else statement of exceptional handling\")\n",
    "    finally: \n",
    "        print(\"Cleanup task\") \n",
    "fun_example()"
   ]
  },
  {
   "cell_type": "markdown",
   "metadata": {},
   "source": [
    "3. Create at least 4 classes having semantic meaning (having relation to each other) so that multiple\n",
    "inheritance can be achieved and incorporating following things in some of them:"
   ]
  },
  {
   "cell_type": "markdown",
   "metadata": {},
   "source": [
    "a. @classmethod\n",
    "b. @staticmethod\n",
    "c. @property and setter for it\n",
    "d. Class_variable"
   ]
  },
  {
   "cell_type": "code",
   "execution_count": 17,
   "metadata": {},
   "outputs": [
    {
     "name": "stdout",
     "output_type": "stream",
     "text": [
      "aa  sharma\n",
      "Bikash Thapa\n",
      "[12, 3, 4, 5]\n"
     ]
    }
   ],
   "source": [
    "class Person:\n",
    "    lists = [12,3,4,5]\n",
    "    def __init__(self,name,age):\n",
    "        self.name =name\n",
    "        self.age =age\n",
    "        \n",
    "    @classmethod\n",
    "    def after5year(cls,name,age):\n",
    "        return cls(name,(age+5))\n",
    "\n",
    "class Staff:\n",
    "    @staticmethod \n",
    "    def isAdult(age):\n",
    "        return age>18\n",
    "    \n",
    "class Employee(Person,Staff):\n",
    "    def __init__(self,fname,lname):\n",
    "        self.fname = fname\n",
    "        self.lname = lname\n",
    "       \n",
    "    @property\n",
    "    def fullname(self):\n",
    "        return '{} {}'.format(self.fname,self.lname)\n",
    "    \n",
    "    @fullname.setter\n",
    "    def fullname(self,name):\n",
    "        fn,ln =name.split(\" \");\n",
    "        self.fname = fn\n",
    "        self.lname =ln\n",
    "\n",
    "emp1 = Employee('aa',' sharma')\n",
    "print(emp1.fullname)\n",
    "emp1.fullname='Bikash Thapa'\n",
    "print(emp1.fullname)\n",
    "print(emp1.lists)"
   ]
  },
  {
   "cell_type": "markdown",
   "metadata": {},
   "source": [
    "4. Create a class for complex number implementing all the arithmetic operations and relational\n",
    "operations related dunder methods. Eg. __add__, __iadd__, __mult__, __eq__, __lt__, …"
   ]
  },
  {
   "cell_type": "code",
   "execution_count": 18,
   "metadata": {},
   "outputs": [
    {
     "name": "stdout",
     "output_type": "stream",
     "text": [
      "15\n",
      "15\n",
      "75\n",
      "False\n",
      "False\n"
     ]
    }
   ],
   "source": [
    "class ComplexNumber:\n",
    "    def __init__(self, a):\n",
    "        self.a = a\n",
    "    \n",
    "    def __add__(self, b):\n",
    "        return self.a + b\n",
    "    \n",
    "    def __sub__(self, b):\n",
    "        return self.a - b\n",
    "    \n",
    "    def __iadd__(self, b):\n",
    "        self.a = self.a + b\n",
    "        return self.a\n",
    "    \n",
    "    def __mul__(self, b):\n",
    "        return self.a * b\n",
    "    \n",
    "    def __div__(self, b):\n",
    "        return self.a / b\n",
    "    \n",
    "    def __floordiv__(self, b):\n",
    "        return self.a // b \n",
    "    \n",
    "    def __mod__(self, b):\n",
    "        return self.a % b\n",
    "    \n",
    "    def __pow__(self, b):\n",
    "        return self.a ** b\n",
    "    \n",
    "    def __eq__(self, b):\n",
    "        return self.a == b\n",
    "    \n",
    "    def __lt__(self, b):\n",
    "        return self.a < b\n",
    "    \n",
    "    def __gt__(self, b):\n",
    "        return self.a > b\n",
    "    \n",
    "    def __le__(self, b):\n",
    "        return self.a <= b\n",
    "    \n",
    "    def __ge__(self, b):\n",
    "        return self.a >= b\n",
    "\n",
    "    def __ne__(self, b):\n",
    "        return self.a != b\n",
    "\n",
    "obj = ComplexNumber(10)\n",
    "print(obj.__add__(5))\n",
    "print(obj.__iadd__(5))\n",
    "print(obj.__mul__(5))\n",
    "print(obj.__eq__(5))\n",
    "print(obj.__lt__(5))"
   ]
  },
  {
   "cell_type": "markdown",
   "metadata": {},
   "source": [
    "5. Create a Class representing the clone behavior of lists in python.\n",
    "a. Eg. List(“1234”) works same as list(“1234”)\n",
    "b. Adding 2 lists, multiple ways of instantiating using @classmethod."
   ]
  },
  {
   "cell_type": "code",
   "execution_count": 19,
   "metadata": {},
   "outputs": [
    {
     "name": "stdout",
     "output_type": "stream",
     "text": [
      "['1', '2', '3', '4']\n",
      "[2, 4, 6, 8]\n"
     ]
    }
   ],
   "source": [
    "class List():\n",
    "    def __init__(self, my_list):\n",
    "        self.my_list = my_list\n",
    "     \n",
    "    @classmethod\n",
    "    def addList(cls, my_list, my_second_list):\n",
    "        return cls(list(map((lambda x, y: x + y), my_list, my_second_list)))\n",
    "        \n",
    "    def displayClone(self):\n",
    "        return list(self.my_list)\n",
    "\n",
    "obj_list = List(\"1234\")\n",
    "print(obj_list.displayClone())\n",
    "\n",
    "obj_list_2 = List.addList([1, 2, 3, 4], [1, 2, 3, 4])\n",
    "print(obj_list_2.displayClone())"
   ]
  },
  {
   "cell_type": "markdown",
   "metadata": {},
   "source": [
    "6. Replicate the behaviour of range() object using :\n",
    "a. Iterator class, iter and next"
   ]
  },
  {
   "cell_type": "code",
   "execution_count": 20,
   "metadata": {},
   "outputs": [
    {
     "name": "stdout",
     "output_type": "stream",
     "text": [
      "1\n",
      "2\n",
      "3\n",
      "4\n"
     ]
    }
   ],
   "source": [
    "class RangeClass:\n",
    "    def __iter__(self):\n",
    "        self.num = 1\n",
    "        return self\n",
    "\n",
    "    def __next__(self):\n",
    "        x = self.num\n",
    "        self.num += 1\n",
    "        return x\n",
    "\n",
    "obj_rangeclass = RangeClass()\n",
    "my_iter = iter(obj_rangeclass)\n",
    "\n",
    "print(next(my_iter))\n",
    "print(next(my_iter))\n",
    "print(next(my_iter))\n",
    "print(next(my_iter))"
   ]
  },
  {
   "cell_type": "markdown",
   "metadata": {},
   "source": [
    "b.Generator"
   ]
  },
  {
   "cell_type": "code",
   "execution_count": 21,
   "metadata": {},
   "outputs": [
    {
     "data": {
      "text/plain": [
       "[0, 1, 2, 3, 4]"
      ]
     },
     "execution_count": 21,
     "metadata": {},
     "output_type": "execute_result"
    }
   ],
   "source": [
    "def generator(max):\n",
    "    i=0\n",
    "    while True:\n",
    "        yield i\n",
    "        i+=1\n",
    "        if i >=5:\n",
    "            return\n",
    "list(generator(5))"
   ]
  },
  {
   "cell_type": "markdown",
   "metadata": {},
   "source": [
    "c. Generator comprehension"
   ]
  },
  {
   "cell_type": "code",
   "execution_count": 22,
   "metadata": {},
   "outputs": [
    {
     "data": {
      "text/plain": [
       "[1, 3, 5, 7, 9]"
      ]
     },
     "execution_count": 22,
     "metadata": {},
     "output_type": "execute_result"
    }
   ],
   "source": [
    "[i for i in range(1,10,2)]\n"
   ]
  },
  {
   "cell_type": "markdown",
   "metadata": {},
   "source": [
    "Python Assignment Part 3"
   ]
  },
  {
   "cell_type": "markdown",
   "metadata": {},
   "source": [
    "Create a connection to a postgres database using psycopg2"
   ]
  },
  {
   "cell_type": "code",
   "execution_count": 23,
   "metadata": {},
   "outputs": [
    {
     "name": "stdout",
     "output_type": "stream",
     "text": [
      "You are connected to -  ('PostgreSQL 13.4, compiled by Visual C++ build 1914, 64-bit',) \n",
      "\n",
      "connection is closed\n"
     ]
    }
   ],
   "source": [
    "import psycopg2\n",
    "try:\n",
    "    connection = psycopg2.connect(user=\"postgres\",\n",
    "                                password=\"root2021\",\n",
    "                                host=\"localhost\",\n",
    "                                port=5432,\n",
    "                                database=\"hospital_data\")\n",
    "    cursor = connection.cursor()\n",
    "    # Executing a SQL query\n",
    "    cursor.execute(\"SELECT version();\")\n",
    "    # Fetch result\n",
    "    record = cursor.fetchone()\n",
    "    print(\"You are connected to - \", record, \"\\n\")\n",
    "except (Exception, Error) as error:\n",
    "    print(\"Error while connecting to PostgreSQL\", error)\n",
    "finally:\n",
    "    if (connection):\n",
    "        cursor.close()\n",
    "        connection.close()\n",
    "        print(\"connection is closed\")"
   ]
  },
  {
   "cell_type": "markdown",
   "metadata": {},
   "source": [
    "Create a table named 'users'\n",
    "-- columns -> id, name, dob, profession\n",
    "- Create table names `address`\n",
    "-- Columns -> id, user_id (FK -> users), permanent_address,\n",
    "temporary_address"
   ]
  },
  {
   "cell_type": "code",
   "execution_count": 25,
   "metadata": {},
   "outputs": [
    {
     "name": "stdout",
     "output_type": "stream",
     "text": [
      "connection is closed\n"
     ]
    }
   ],
   "source": [
    "try:\n",
    "    connection = psycopg2.connect(user=\"postgres\",\n",
    "                                password=\"root2021\",\n",
    "                                host=\"localhost\",\n",
    "                                port=5432,\n",
    "                                database=\"hospital_data\")\n",
    "    cursor = connection.cursor()\n",
    "    \n",
    "    \n",
    "    create_users_query = '''\n",
    "        CREATE TABLE IF NOT EXISTS users (\n",
    "            id SERIAL PRIMARY KEY,\n",
    "            name VARCHAR(100) NOT NULL,\n",
    "            dob DATE NOT NULL DEFAULT NOW(),\n",
    "            profession VARCHAR(50) NOT NULL\n",
    "         );   \n",
    "    '''\n",
    "    \n",
    "    create_address_column = '''\n",
    "        CREATE TABLE IF NOT EXISTS address (\n",
    "            id SERIAL PRIMARY KEY,\n",
    "            user_id INT ,\n",
    "            permanent_address VARCHAR(50) NOT NULL,\n",
    "            temporary_address VARCHAR(50) NOT NULL,\n",
    "           FOREIGN KEY(user_id) REFERENCES users(id) ON DELETE CASCADE \n",
    "        );\n",
    "    '''\n",
    "    \n",
    "    cursor.execute(create_users_query)\n",
    "    cursor.execute(create_address_column)    \n",
    "\n",
    "    connection.commit()\n",
    "    \n",
    "except Exception as e:\n",
    "    print(\"An error has occured\", e)\n",
    "    \n",
    "finally:\n",
    "    if (connection):\n",
    "        cursor.close()\n",
    "        connection.close()\n",
    "        print(\"connection is closed\")"
   ]
  },
  {
   "cell_type": "markdown",
   "metadata": {},
   "source": [
    "- Insert dummy data in the tables using psycopg connection"
   ]
  },
  {
   "cell_type": "code",
   "execution_count": 28,
   "metadata": {},
   "outputs": [],
   "source": [
    "\n",
    "users=[('bikash','1998-08-16','data engineer'),('John','1998-4-1','data scientist'),('Marlod','1996-8-5','data master'),('shyam','1998-12-1','MERN'),('Gita','1997-3-12','DB Admin'),('Alex','1995-1-1','HR')]\n",
    "address = [(1,\"ktm\",\"AUS\"),(2,\"ktm\",\"India\"),(3,\"ktm\",\"China\"),(4,\"ktm\",\"Germany\"),(5,\"chitwan\",\"canada\"),(6,\"ktm\",\"singapore\")]\n"
   ]
  },
  {
   "cell_type": "code",
   "execution_count": 29,
   "metadata": {},
   "outputs": [
    {
     "name": "stdout",
     "output_type": "stream",
     "text": [
      "Data inserted  in users DB\n",
      "Data  inserted  in address DB\n",
      "connection is closed\n"
     ]
    }
   ],
   "source": [
    "try:\n",
    "    connection = psycopg2.connect(user=\"postgres\",\n",
    "                                password=\"root2021\",\n",
    "                                host=\"localhost\",\n",
    "                                port=5432,\n",
    "                                database=\"hospital_data\")\n",
    "    cursor = connection.cursor()\n",
    "    \n",
    "    for item in users:\n",
    "        query='''\n",
    "        INSERT INTO users(name,dob,profession)\n",
    "        VALUES (%s,%s,%s)\n",
    "        '''\n",
    "    \n",
    "        cursor.execute(query , item)\n",
    "    \n",
    "    connection.commit()\n",
    "    \n",
    "    \n",
    "    print(\"Data inserted  in users DB\")\n",
    "    \n",
    "    for item in address:\n",
    "        query='''\n",
    "        INSERT INTO address(user_id,permanent_address,temporary_address)\n",
    "        VALUES (%s,%s,%s)\n",
    "        '''\n",
    "    \n",
    "        cursor.execute(query , item)\n",
    "    \n",
    "    connection.commit()\n",
    "    print(\"Data  inserted  in address DB\")\n",
    "    \n",
    "except Exception as e:\n",
    "    print(\"An error has occured\", e)\n",
    "    \n",
    "finally:\n",
    "    if (connection):\n",
    "        cursor.close()\n",
    "        connection.close()\n",
    "        print(\"connection is closed\")"
   ]
  },
  {
   "cell_type": "markdown",
   "metadata": {},
   "source": [
    "Fetch data from the joined users and address table\n",
    "-- given user_id\n",
    "-- given profession and permanent_address"
   ]
  },
  {
   "cell_type": "code",
   "execution_count": 40,
   "metadata": {},
   "outputs": [
    {
     "name": "stdout",
     "output_type": "stream",
     "text": [
      "[(1, 'bikash', datetime.date(1998, 8, 16), 'data engineer', 1, 1, 'ktm', 'AUS'), (6, 'Alex', datetime.date(1995, 1, 1), 'HR', 6, 6, 'ktm', 'singapore')]\n",
      "connection is closed\n"
     ]
    }
   ],
   "source": [
    "try:\n",
    "    connection = psycopg2.connect(user=\"postgres\",\n",
    "                                password=\"root2021\",\n",
    "                                host=\"localhost\",\n",
    "                                port=5432,\n",
    "                                database=\"hospital_data\")\n",
    "    cursor = connection.cursor()\n",
    "    \n",
    "    get_user_address_query = '''\n",
    "        SELECT * \n",
    "        FROM users u\n",
    "        JOIN address a\n",
    "        ON u.id = a.user_id\n",
    "        WHERE a.user_id = 1 OR (u.profession='HR' AND permanent_address ='ktm') \n",
    "        ;\n",
    "    '''\n",
    "    \n",
    "    cursor.execute(get_user_address_query)\n",
    "    print(cursor.fetchall())\n",
    "    \n",
    "except Exception as e:\n",
    "    print(\"An error has occured\", e)\n",
    "    \n",
    "finally:\n",
    "    if (connection):\n",
    "        cursor.close()\n",
    "        connection.close()\n",
    "        print(\"connection is closed\")"
   ]
  },
  {
   "cell_type": "markdown",
   "metadata": {},
   "source": [
    "- Update table users and add column gender"
   ]
  },
  {
   "cell_type": "code",
   "execution_count": 48,
   "metadata": {},
   "outputs": [
    {
     "name": "stdout",
     "output_type": "stream",
     "text": [
      "[(1, 'bikash', datetime.date(1998, 8, 16), 'data engineer', 'Male'), (2, 'John', datetime.date(1998, 4, 1), 'data scientist', 'Male'), (3, 'Marlod', datetime.date(1996, 8, 5), 'data master', 'Male'), (4, 'shyam', datetime.date(1998, 12, 1), 'MERN', 'Male'), (5, 'Gita', datetime.date(1997, 3, 12), 'DB Admin', 'Male'), (6, 'Alex', datetime.date(1995, 1, 1), 'HR', 'Male')]\n",
      "connection is closed\n"
     ]
    }
   ],
   "source": [
    "try:\n",
    "    connection = psycopg2.connect(user=\"postgres\",\n",
    "                                password=\"root2021\",\n",
    "                                host=\"localhost\",\n",
    "                                port=5432,\n",
    "                                database=\"hospital_data\")\n",
    "    cursor = connection.cursor()\n",
    "    update_query = '''\n",
    "        ALTER TABLE users\n",
    "        ADD COLUMN gender VARCHAR(10) NOT NULL DEFAULT 'Male';\n",
    "    '''\n",
    "    \n",
    "    get_query = '''\n",
    "        SELECT * \n",
    "        FROM users;\n",
    "    '''\n",
    "    \n",
    "    cursor.execute(update_query)\n",
    "    cursor.execute(get_query)\n",
    "    print(cursor.fetchall())\n",
    "    \n",
    "except Exception as e:\n",
    "    print(\"An error has occured\", e)\n",
    "    \n",
    "finally:\n",
    "    if (connection):\n",
    "        cursor.close()\n",
    "        connection.close()\n",
    "        print(\"connection is closed\")"
   ]
  },
  {
   "cell_type": "markdown",
   "metadata": {},
   "source": [
    "Delete records from user whose age is less than 20 yrs\n"
   ]
  },
  {
   "cell_type": "code",
   "execution_count": 57,
   "metadata": {},
   "outputs": [
    {
     "name": "stdout",
     "output_type": "stream",
     "text": [
      "[(1, 'bikash', datetime.date(1998, 8, 16), 'data engineer'), (2, 'John', datetime.date(1998, 4, 1), 'data scientist'), (3, 'Marlod', datetime.date(1996, 8, 5), 'data master'), (4, 'shyam', datetime.date(1998, 12, 1), 'MERN'), (5, 'Gita', datetime.date(1997, 3, 12), 'DB Admin'), (6, 'Alex', datetime.date(1995, 1, 1), 'HR')]\n",
      "connection is closed\n"
     ]
    }
   ],
   "source": [
    "try:\n",
    "    connection = psycopg2.connect(user=\"postgres\",\n",
    "                                password=\"root2021\",\n",
    "                                host=\"localhost\",\n",
    "                                port=5432,\n",
    "                                database=\"hospital_data\")\n",
    "    cursor = connection.cursor()\n",
    "    delete_query = '''\n",
    "        DELETE FROM users\n",
    "        WHERE date_part('year', AGE(users.dob))<20;\n",
    "    '''\n",
    "    \n",
    "    get_query = '''\n",
    "        SELECT * \n",
    "        FROM users;\n",
    "    '''\n",
    "    \n",
    "    cursor.execute(delete_query)\n",
    "    cursor.execute(get_query)\n",
    "    print(cursor.fetchall())\n",
    "    \n",
    "except Exception as e:\n",
    "    print(\"An error has occured\", e)\n",
    "    \n",
    "finally:\n",
    "    if (connection):\n",
    "        cursor.close()\n",
    "        connection.close()\n",
    "        print(\"connection is closed\")"
   ]
  },
  {
   "cell_type": "code",
   "execution_count": null,
   "metadata": {},
   "outputs": [],
   "source": []
  }
 ],
 "metadata": {
  "kernelspec": {
   "display_name": "Python 3",
   "language": "python",
   "name": "python3"
  },
  "language_info": {
   "codemirror_mode": {
    "name": "ipython",
    "version": 3
   },
   "file_extension": ".py",
   "mimetype": "text/x-python",
   "name": "python",
   "nbconvert_exporter": "python",
   "pygments_lexer": "ipython3",
   "version": "3.8.3"
  }
 },
 "nbformat": 4,
 "nbformat_minor": 4
}

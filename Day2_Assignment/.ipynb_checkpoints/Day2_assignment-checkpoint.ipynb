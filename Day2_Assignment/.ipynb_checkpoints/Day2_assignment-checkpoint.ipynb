{
 "cells": [
  {
   "cell_type": "markdown",
   "metadata": {},
   "source": [
    "1.Create generator with and without comprehension for getting multiples of given number upto 10."
   ]
  },
  {
   "cell_type": "code",
   "execution_count": 1,
   "metadata": {},
   "outputs": [
    {
     "name": "stdout",
     "output_type": "stream",
     "text": [
      "5\n",
      "10\n",
      "15\n",
      "20\n",
      "25\n",
      "30\n",
      "35\n",
      "40\n",
      "45\n",
      "50\n"
     ]
    }
   ],
   "source": [
    "# without comprehension in generator\n",
    "def generator(number):\n",
    "    for i in range(1,11):\n",
    "        yield (i*number)\n",
    "my_num = generator(5)#saves as the generator object\n",
    "\n",
    "#runs loop until finished\n",
    "for i in my_num:\n",
    "    print(i)"
   ]
  },
  {
   "cell_type": "code",
   "execution_count": 2,
   "metadata": {},
   "outputs": [
    {
     "name": "stdout",
     "output_type": "stream",
     "text": [
      "[5, 10, 15, 20, 25, 30, 35, 40, 45, 50]\n"
     ]
    }
   ],
   "source": [
    "#usig list comprehension in generator\n",
    "def generator_new(number):\n",
    "    yield [i* number for i in range(1,11)]\n",
    "new_list = generator_new(5)\n",
    "for x in new_list:\n",
    "    print(x)"
   ]
  },
  {
   "cell_type": "markdown",
   "metadata": {},
   "source": [
    "2.Create a scenario where the following errors are handled:\n",
    "    a.Custom Error implemented using class"
   ]
  },
  {
   "cell_type": "code",
   "execution_count": 6,
   "metadata": {},
   "outputs": [
    {
     "name": "stdout",
     "output_type": "stream",
     "text": [
      "This is exception inside Playernotfound\n",
      "Cleanup task\n"
     ]
    }
   ],
   "source": [
    "class PlayerNotFound(Exception):\n",
    "    pass\n",
    "def fun_example():\n",
    "    try:\n",
    "        raise PlayerNotFound\n",
    "    except PlayerNotFound as e:\n",
    "        print(\"This is exception inside Playernotfound\")\n",
    "    finally: \n",
    "        print(\"Cleanup task\") \n",
    "fun_example()\n"
   ]
  },
  {
   "cell_type": "markdown",
   "metadata": {},
   "source": [
    "b.Custom Error using Exception or BaseException class using message to handle at least two of the cases."
   ]
  },
  {
   "cell_type": "code",
   "execution_count": 7,
   "metadata": {},
   "outputs": [
    {
     "name": "stdout",
     "output_type": "stream",
     "text": [
      "division by zero\n",
      "Cleanup task\n"
     ]
    }
   ],
   "source": [
    "def fun_example():\n",
    "    try:\n",
    "        1/0\n",
    "        lst =[1,2,3]\n",
    "        print(lst[6])\n",
    "        raise BaseException\n",
    "    except ZeroDivisionError as err:\n",
    "        print(err)\n",
    "    except PlayerNotFound as e:\n",
    "        print(\"Hola\")\n",
    "    except:\n",
    "        print(\"I couldnt handle this\")\n",
    "    finally: \n",
    "        print(\"Cleanup task\") \n",
    "fun_example()\n"
   ]
  },
  {
   "cell_type": "markdown",
   "metadata": {},
   "source": [
    "c.The full-fledged case for exception handling using try, except, else, finally"
   ]
  },
  {
   "cell_type": "code",
   "execution_count": 8,
   "metadata": {},
   "outputs": [
    {
     "name": "stdout",
     "output_type": "stream",
     "text": [
      "division by zero\n",
      "Cleanup task\n"
     ]
    }
   ],
   "source": [
    "def fun_example():\n",
    "    try:\n",
    "        1/0\n",
    "        lst =[1,2,3]\n",
    "        print(lst[6])\n",
    "        raise BaseException\n",
    "    except ZeroDivisionError as err:\n",
    "        print(err)\n",
    "    except PlayerNotFound as e:\n",
    "        print(\"Hola\")\n",
    "    except:\n",
    "        print(\"I couldnt handle this\")\n",
    "    else:\n",
    "        print(\"This is the else statement of exceptional handling\")\n",
    "    finally: \n",
    "        print(\"Cleanup task\") \n",
    "fun_example()\n"
   ]
  },
  {
   "cell_type": "markdown",
   "metadata": {},
   "source": []
  },
  {
   "cell_type": "code",
   "execution_count": 9,
   "metadata": {},
   "outputs": [
    {
     "name": "stdout",
     "output_type": "stream",
     "text": [
      "Ram  sharan - RS 30000\n",
      "Shyam  karki - RS 20000\n",
      "50000\n",
      "10000\n",
      "600000000\n"
     ]
    }
   ],
   "source": [
    "class Employee:\n",
    "    def __int__(self,fname,lname,salary):\n",
    "        self.fname = fname\n",
    "        self.lname = lname\n",
    "        self.salary = salary\n",
    "    def __str__(self):\n",
    "        return f\"{self.fname}  {self.lname} - RS {self.salary}\"\n",
    "    \n",
    "    def __add__(self,other):\n",
    "        return self.salary + other.salary\n",
    "    def __sub__(self,other):\n",
    "        return self.salary - other.salary\n",
    "    \n",
    "    def __mul__(self,other):\n",
    "        return self.salary * other.salary\n",
    "    \n",
    "    \n",
    "emp1 = Employee()\n",
    "emp1.fname = 'Ram'\n",
    "emp1.lname ='sharan'\n",
    "emp1.salary = 30000\n",
    "\n",
    "emp2 = Employee()\n",
    "emp2.fname ='Shyam'\n",
    "emp2.lname = 'karki'\n",
    "emp2.salary = 20000\n",
    "\n",
    "print(emp1)\n",
    "print(emp2)\n",
    "print(emp1 + emp2)\n",
    "print(emp1 - emp2)\n",
    "print(emp1 * emp2)"
   ]
  },
  {
   "cell_type": "code",
   "execution_count": 1,
   "metadata": {},
   "outputs": [
    {
     "name": "stdout",
     "output_type": "stream",
     "text": [
      "aa  sharma\n",
      "Bikash Thapa\n"
     ]
    }
   ],
   "source": [
    "class Person:\n",
    "    def __init__(self,name,age):\n",
    "        self.name =name\n",
    "        self.age =age\n",
    "        \n",
    "    @classmethod\n",
    "    def after5year(cls,name,age):\n",
    "        return cls(name,(age+5))\n",
    "\n",
    "class Staff:\n",
    "    @staticmethod \n",
    "    def isAdult(age):\n",
    "        return age>18\n",
    "    \n",
    "class Employee(Person,Staff):\n",
    "    def __init__(self,fname,lname):\n",
    "        self.fname = fname\n",
    "        self.lname = lname\n",
    "       \n",
    "    @property\n",
    "    def fullname(self):\n",
    "        return '{} {}'.format(self.fname,self.lname)\n",
    "    \n",
    "    @fullname.setter\n",
    "    def fullname(self,name):\n",
    "        fn,ln =name.split(\" \");\n",
    "        self.fname = fn\n",
    "        self.lname =ln\n",
    "\n",
    "emp1 = Employee('aa',' sharma')\n",
    "print(emp1.fullname)\n",
    "emp1.fullname='Bikash Thapa'\n",
    "print(emp1.fullname)"
   ]
  },
  {
   "cell_type": "code",
   "execution_count": null,
   "metadata": {},
   "outputs": [],
   "source": []
  }
 ],
 "metadata": {
  "kernelspec": {
   "display_name": "Python 3",
   "language": "python",
   "name": "python3"
  },
  "language_info": {
   "codemirror_mode": {
    "name": "ipython",
    "version": 3
   },
   "file_extension": ".py",
   "mimetype": "text/x-python",
   "name": "python",
   "nbconvert_exporter": "python",
   "pygments_lexer": "ipython3",
   "version": "3.8.3"
  }
 },
 "nbformat": 4,
 "nbformat_minor": 4
}

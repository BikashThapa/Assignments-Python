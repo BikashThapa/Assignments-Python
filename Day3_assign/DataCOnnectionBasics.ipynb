{
 "cells": [
  {
   "cell_type": "code",
   "execution_count": 25,
   "metadata": {},
   "outputs": [
    {
     "name": "stdout",
     "output_type": "stream",
     "text": [
      "You are connected to -  ('PostgreSQL 13.4, compiled by Visual C++ build 1914, 64-bit',) \n",
      "\n",
      "connection is closed\n"
     ]
    }
   ],
   "source": [
    "import psycopg2\n",
    "try:\n",
    "    connection = psycopg2.connect(user=\"postgres\",\n",
    "                                password=\"root2021\",\n",
    "                                host=\"localhost\",\n",
    "                                port=5432,\n",
    "                                database=\"hospital_data\")\n",
    "    cursor = connection.cursor()\n",
    "    # Executing a SQL query\n",
    "    cursor.execute(\"SELECT version();\")\n",
    "    # Fetch result\n",
    "    record = cursor.fetchone()\n",
    "    print(\"You are connected to - \", record, \"\\n\")\n",
    "except (Exception, Error) as error:\n",
    "    print(\"Error while connecting to PostgreSQL\", error)\n",
    "finally:\n",
    "    if (connection):\n",
    "        cursor.close()\n",
    "        connection.close()\n",
    "        print(\"connection is closed\")\n"
   ]
  },
  {
   "cell_type": "markdown",
   "metadata": {},
   "source": [
    "CREATE TABLES\n",
    "1.patient\n",
    "2.doctor-specialization\n",
    "3.appointment\n",
    "4.doctor"
   ]
  },
  {
   "cell_type": "code",
   "execution_count": 26,
   "metadata": {},
   "outputs": [
    {
     "name": "stdout",
     "output_type": "stream",
     "text": [
      " connection is closed\n"
     ]
    }
   ],
   "source": [
    "try:\n",
    "    connection = psycopg2.connect(user=\"postgres\",\n",
    "                                password=\"root2021\",\n",
    "                                host=\"localhost\",\n",
    "                                port=5432,\n",
    "                                database=\"hospital_data\")\n",
    "    cursor = connection.cursor()\n",
    "    \n",
    "    query1 = '''CREATE TABLE patient(id SERIAL PRIMARY KEY,\n",
    "                name VARCHAR(30)NOT NULL,\n",
    "                date_of_birth date NOT NULL,\n",
    "                 gender VARCHAR(10) NOT NULL\n",
    "                )'''\n",
    "    query2 = '''CREATE TABLE doctor_specialization(id SERIAL PRIMARY KEY,\n",
    "                                      specialization_type VARCHAR(30))'''\n",
    "     \n",
    "    query4='''CREATE TABLE appointment(id  serial PRIMARY KEY,\n",
    "                                    doctor_id INT,\n",
    "                                    patient_id INT,\n",
    "                                    fee INT,\n",
    "                                    diagnosis VARCHAR(500),\n",
    "                                   FOREIGN KEY(doctor_id) REFERENCES doctor(id),\n",
    "                                   FOREIGN KEY(patient_id) REFERENCES patient(id)\n",
    "                            )'''\n",
    "    \n",
    "    query3 = ''' CREATE TABLE doctor(\n",
    "                    id SERIAL PRIMARY KEY,\n",
    "                    name VARCHAR(30) NOT NULL,\n",
    "                    specialization INTEGER NOT NULL,\n",
    "                    phone_numner BIGINT NOT NULL,\n",
    "                    FOREIGN KEY(specialization) REFERENCES doctor_specialization(id)\n",
    ")'''\n",
    "    \n",
    "    \n",
    "    # Executing a SQL query\n",
    "    cursor.execute(query1)\n",
    "    cursor.execute(query2)\n",
    "    cursor.execute(query3)\n",
    "    cursor.execute(query4)\n",
    "    connection.commit()\n",
    "    \n",
    "except (Exception) as error:\n",
    "    print(\"Error while connecting to PostgreSQL\", error)\n",
    "finally:\n",
    "    if (connection):\n",
    "        cursor.close()\n",
    "        connection.close()\n",
    "        print(\" connection is closed\")"
   ]
  },
  {
   "cell_type": "markdown",
   "metadata": {},
   "source": [
    "3. Import data using execute() and executemany() with parameter binding"
   ]
  },
  {
   "cell_type": "code",
   "execution_count": 27,
   "metadata": {},
   "outputs": [
    {
     "name": "stdout",
     "output_type": "stream",
     "text": [
      "connection is closed\n"
     ]
    }
   ],
   "source": [
    "try:\n",
    "    connection = psycopg2.connect(user=\"postgres\",\n",
    "                                password=\"root2021\",\n",
    "                                host=\"localhost\",\n",
    "                                port=5432,\n",
    "                                database=\"hospital_data\")\n",
    "    cursor = connection.cursor()\n",
    "    \n",
    "    query1 = '''INSERT INTO doctor_specialization(\"id\",\"specialization_type\")\n",
    "    VALUES (1,'Anaesthesiologist'),\n",
    "    (2,'Surgeon'),\n",
    "    (3,'Psychiatrist');\n",
    "    '''\n",
    "    \n",
    "\n",
    "    \n",
    "\n",
    "    query3 = '''INSERT INTO doctor\n",
    "    VALUES(1,'Lionel Smart',1 ,2811232323 ),\n",
    "    (2,'Michelle Sanders',2 ,1899912310 ),\n",
    "    (3,'Pretti Patel',3 ,7980123982 ),\n",
    "    (4,'Sadiq Khan',1 ,7983129813 ),\n",
    "    (5,'Chaz Smith',2 ,2039820398 )'''\n",
    "    \n",
    "\n",
    "    query2='''INSERT INTO Patient\n",
    "    VALUES(1,'Jane Henderson','1989-09-19','Female'),\n",
    "    (2,'Alice Sprigg','1991-11-12','Female'),\n",
    "    (3,'JDave Carr','1995-03-28','Male'),\n",
    "    (4,'Morris Beckman','2001-07-07','Male')'''\n",
    "    \n",
    "    \n",
    "    query4 = '''INSERT INTO appointment\n",
    "    VALUES(1,1,2,1000,NULL),\n",
    "    (2,1,4,1000,'Headache'),\n",
    "    (3,4,3,2000,NULL),\n",
    "    (4,2,1,1500,'Back Pain')'''\n",
    "\n",
    "\n",
    "    cursor.execute(query1)\n",
    "    cursor.execute(query2)\n",
    "    cursor.execute(query3)\n",
    "    cursor.execute(query4)\n",
    "    connection.commit()\n",
    "except (Exception) as error:\n",
    "    print(\"Error while connecting to PostgreSQL\", error)\n",
    "finally:\n",
    "    if (connection):\n",
    "        cursor.close()\n",
    "        connection.close()\n",
    "        print(\"connection is closed\")"
   ]
  },
  {
   "cell_type": "markdown",
   "metadata": {},
   "source": [
    "3.GET the count of patients born after 1990."
   ]
  },
  {
   "cell_type": "code",
   "execution_count": 37,
   "metadata": {},
   "outputs": [
    {
     "name": "stdout",
     "output_type": "stream",
     "text": [
      "The count of patient born after 1990 is: 3\n",
      "connection is closed\n"
     ]
    }
   ],
   "source": [
    "try:\n",
    "    connection = psycopg2.connect(user=\"postgres\",\n",
    "                                password=\"root2021\",\n",
    "                                host=\"localhost\",\n",
    "                                port=5432,\n",
    "                                database=\"hospital_data\")\n",
    "    cursor = connection.cursor()\n",
    "    \n",
    "    query = ''' SELECT COUNT(*) \n",
    "                FROM Patient\n",
    "                WHERE date_of_birth > '1990-12-31' '''\n",
    "    \n",
    "    cursor.execute(query)\n",
    "    print(f\"The count of patient born after 1990 is: {cursor.fetchall()[0][0]}\")\n",
    "    \n",
    "    \n",
    "except (Exception) as error:\n",
    "    print(\"Error while connecting to PostgreSQL\", error)\n",
    "finally:\n",
    "    if (connection):\n",
    "        cursor.close()\n",
    "        connection.close()  \n",
    "        print(\"connection is closed\")"
   ]
  },
  {
   "cell_type": "markdown",
   "metadata": {},
   "source": [
    "4. GET the appointments made with “Surgeon”"
   ]
  },
  {
   "cell_type": "code",
   "execution_count": 46,
   "metadata": {},
   "outputs": [
    {
     "name": "stdout",
     "output_type": "stream",
     "text": [
      "[(4, 2, 1, 1500, 'Back Pain', 2, 'Surgeon')]\n",
      " connection is closed\n"
     ]
    }
   ],
   "source": [
    "\n",
    "try:\n",
    "    connection = psycopg2.connect(user=\"postgres\",\n",
    "                           password=\"root2021\",\n",
    "                                host=\"localhost\",\n",
    "                                port=5432,\n",
    "                                database=\"hospital_data\")\n",
    "    cursor = connection.cursor()\n",
    "    \n",
    "    query = '''SELECT * FROM appointment as app \n",
    "    INNER JOIN doctor_Specialization AS ds \n",
    "        ON app.doctor_id =ds.id\n",
    "    WHERE \n",
    "        ds.specialization_type = 'Surgeon'\n",
    "      '''\n",
    "    \n",
    "    cursor.execute(query)\n",
    "    print(cursor.fetchall())\n",
    "    \n",
    "    \n",
    "except (Exception) as error:\n",
    "    print(\"Error while connecting to PostgreSQL\", error)\n",
    "finally:\n",
    "    if (connection):\n",
    "        cursor.close()\n",
    "        connection.close()\n",
    "        print(\" connection is closed\")"
   ]
  },
  {
   "cell_type": "markdown",
   "metadata": {},
   "source": [
    "5. UPDATE fees of appointments and reduce them by 25%."
   ]
  },
  {
   "cell_type": "code",
   "execution_count": 47,
   "metadata": {},
   "outputs": [
    {
     "name": "stdout",
     "output_type": "stream",
     "text": [
      "connection is closed\n"
     ]
    }
   ],
   "source": [
    "try:\n",
    "    connection = psycopg2.connect(user=\"postgres\",\n",
    "                           password=\"root2021\",\n",
    "                                host=\"localhost\",\n",
    "                                port=5432,\n",
    "                                database=\"hospital_data\")\n",
    "    cursor = connection.cursor()\n",
    "    \n",
    "    \n",
    "    query = ''' UPDATE appointment \n",
    "                SET fee=fee-0.25*fee\n",
    "      '''\n",
    "    \n",
    "    cursor.execute(query)\n",
    "    connection.commit()\n",
    "    \n",
    "    \n",
    "    \n",
    "except (Exception) as error:\n",
    "    print(\"Error while connecting to PostgreSQL\", error)\n",
    "finally:\n",
    "    if (connection):\n",
    "        cursor.close()\n",
    "        connection.close()\n",
    "        print(\"connection is closed\")"
   ]
  },
  {
   "cell_type": "markdown",
   "metadata": {},
   "source": [
    "6. UPDATE phone_number of Chaz Smith to 1231292310."
   ]
  },
  {
   "cell_type": "code",
   "execution_count": 52,
   "metadata": {},
   "outputs": [
    {
     "name": "stdout",
     "output_type": "stream",
     "text": [
      "connection is closed\n"
     ]
    }
   ],
   "source": [
    "\n",
    "try:\n",
    "    connection = psycopg2.connect(user=\"postgres\",\n",
    "                           password=\"root2021\",\n",
    "                                host=\"localhost\",\n",
    "                                port=5432,\n",
    "                                database=\"hospital_data\")\n",
    "    cursor = connection.cursor()\n",
    "    \n",
    "    \n",
    "    query = ''' UPDATE doctor \n",
    "                SET phone_numner=1231292310\n",
    "            WHERE name = 'Chaz Smith'\n",
    "      '''\n",
    "    \n",
    "    cursor.execute(query)\n",
    "    connection.commit()\n",
    "       \n",
    "    \n",
    "    \n",
    "    \n",
    "except (Exception) as error:\n",
    "    print(\"Error while connecting to PostgreSQL\", error)\n",
    "finally:\n",
    "    if (connection):\n",
    "        cursor.close()\n",
    "        connection.close()\n",
    "        print(\"connection is closed\")"
   ]
  },
  {
   "cell_type": "markdown",
   "metadata": {},
   "source": [
    "7. DELETE all doctors who are specialized as “Psychiatrist”."
   ]
  },
  {
   "cell_type": "code",
   "execution_count": 60,
   "metadata": {},
   "outputs": [
    {
     "name": "stdout",
     "output_type": "stream",
     "text": [
      "PostgreSQL connection is closed\n"
     ]
    }
   ],
   "source": [
    "try:\n",
    "    connection = psycopg2.connect(user=\"postgres\",\n",
    "                           password=\"root2021\",\n",
    "                                host=\"localhost\",\n",
    "                                port=5432,\n",
    "                                database=\"hospital_data\")\n",
    "    cursor = connection.cursor()\n",
    "    \n",
    "    \n",
    "    query = ''' DELETE FROM doctor\n",
    "                WHERE id IN (SELECT id \n",
    "                                    from doctor_specialization \n",
    "                                    WHERE specialization_type = 'Psychiatrist') '''\n",
    "    \n",
    "    cursor.execute(query)\n",
    "    connection.commit()\n",
    "    \n",
    "    \n",
    "    \n",
    "except (Exception) as error:\n",
    "    print(\"Error while connecting to PostgreSQL\", error)\n",
    "finally:\n",
    "    if (connection):\n",
    "        cursor.close()\n",
    "        connection.close()\n",
    "        print(\"PostgreSQL connection is closed\")\n"
   ]
  },
  {
   "cell_type": "code",
   "execution_count": null,
   "metadata": {},
   "outputs": [],
   "source": []
  }
 ],
 "metadata": {
  "kernelspec": {
   "display_name": "Python 3",
   "language": "python",
   "name": "python3"
  },
  "language_info": {
   "codemirror_mode": {
    "name": "ipython",
    "version": 3
   },
   "file_extension": ".py",
   "mimetype": "text/x-python",
   "name": "python",
   "nbconvert_exporter": "python",
   "pygments_lexer": "ipython3",
   "version": "3.8.3"
  }
 },
 "nbformat": 4,
 "nbformat_minor": 4
}
